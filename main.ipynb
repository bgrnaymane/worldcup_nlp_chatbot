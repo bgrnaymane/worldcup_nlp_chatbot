{
 "cells": [
  {
   "cell_type": "code",
   "execution_count": 6,
   "metadata": {},
   "outputs": [],
   "source": [
    "import pandas as pd\n",
    "from functions import access_data\n",
    "import numpy as np\n",
    "\n",
    "# spacy imports\n",
    "import spacy\n",
    "from spacy.lang.en.examples import sentences \n"
   ]
  },
  {
   "cell_type": "code",
   "execution_count": 4,
   "metadata": {},
   "outputs": [
    {
     "name": "stdout",
     "output_type": "stream",
     "text": [
      "    YEAR                HOST      CHAMPION       RUNNER UP    THIRD PLACE  \\\n",
      "0   1930             Uruguay       Uruguay       Argentina  United States   \n",
      "1   1934               Italy         Italy  Czechoslovakia        Germany   \n",
      "2   1938              France         Italy         Hungary         Brazil   \n",
      "3   1950              Brazil       Uruguay          Brazil         Sweden   \n",
      "4   1954         Switzerland  West Germany         Hungary        Austria   \n",
      "5   1958              Sweden        Brazil          Sweden         France   \n",
      "6   1962               Chile        Brazil  Czechoslovakia          Chile   \n",
      "7   1966             England       England    West Germany       Portugal   \n",
      "8   1970              Mexico        Brazil           Italy   West Germany   \n",
      "9   1974        West Germany  West Germany     Netherlands         Poland   \n",
      "10  1978           Argentina     Argentina     Netherlands         Brazil   \n",
      "11  1982               Spain         Italy    West Germany         Poland   \n",
      "12  1986              Mexico     Argentina    West Germany         France   \n",
      "13  1990               Italy  West Germany       Argentina          Italy   \n",
      "14  1994       United States        Brazil           Italy         Sweden   \n",
      "15  1998              France        France          Brazil        Croatia   \n",
      "16  2002  South Korea, Japan        Brazil         Germany         Turkey   \n",
      "17  2006             Germany         Italy          France        Germany   \n",
      "18  2010        South Africa         Spain     Netherlands        Germany   \n",
      "19  2014              Brazil       Germany       Argentina    Netherlands   \n",
      "20  2018              Russia        France         Croatia        Belgium   \n",
      "21  2022               Qatar     Argentina          France        Croatia   \n",
      "\n",
      "    TEAMS  MATCHES PLAYED  GOALS SCORED  AVG GOALS PER GAME  \n",
      "0      13              16            70                 3.6  \n",
      "1      16              17            70                 4.1  \n",
      "2      15              18            84                 4.7  \n",
      "3      13              22            88                 4.0  \n",
      "4      16              26           140                 5.4  \n",
      "5      16              35           126                 3.6  \n",
      "6      16              32            89                 2.8  \n",
      "7      16              32            89                 2.8  \n",
      "8      16              32            95                 3.0  \n",
      "9      16              38            97                 2.6  \n",
      "10     16              38           102                 2.7  \n",
      "11     24              52           146                 2.8  \n",
      "12     24              52           132                 2.5  \n",
      "13     24              52           115                 2.2  \n",
      "14     24              52           141                 2.7  \n",
      "15     32              64           171                 2.7  \n",
      "16     32              64           161                 2.5  \n",
      "17     32              64           147                 2.3  \n",
      "18     32              64           145                 2.3  \n",
      "19     32              64           171                 2.7  \n",
      "20     32              64           169                 2.6  \n",
      "21     32              64           172                 2.7  \n"
     ]
    }
   ],
   "source": [
    "df = pd.read_csv('./data/FIFA - World Cup Summary.csv')\n",
    "print(df)"
   ]
  },
  {
   "cell_type": "code",
   "execution_count": 19,
   "metadata": {},
   "outputs": [],
   "source": [
    "output = access_data('Where was the world cup 1958?', 'YearHost')"
   ]
  },
  {
   "cell_type": "code",
   "execution_count": 7,
   "metadata": {},
   "outputs": [],
   "source": [
    "input = 'Where was the world cup 1958?'"
   ]
  },
  {
   "cell_type": "code",
   "execution_count": 8,
   "metadata": {},
   "outputs": [],
   "source": [
    "nlp = spacy.load(\"en_core_web_sm\")"
   ]
  },
  {
   "cell_type": "code",
   "execution_count": 21,
   "metadata": {},
   "outputs": [
    {
     "name": "stdout",
     "output_type": "stream",
     "text": [
      "\n"
     ]
    }
   ],
   "source": [
    "print(output)"
   ]
  },
  {
   "cell_type": "code",
   "execution_count": 18,
   "metadata": {},
   "outputs": [
    {
     "name": "stdout",
     "output_type": "stream",
     "text": [
      "Where was the world cup 1958?\n",
      "1958\n"
     ]
    }
   ],
   "source": [
    "txt = nlp(input)\n",
    "print(txt.text)\n",
    "year = [token.lemma_ for token in txt if token.ent_type_ == \"DATE\"]\n",
    "print(year[0])\n",
    "\n",
    "print(df['HOST'].loc[df['YEAR'] == year[0]])"
   ]
  },
  {
   "cell_type": "code",
   "execution_count": 46,
   "metadata": {},
   "outputs": [
    {
     "name": "stdout",
     "output_type": "stream",
     "text": [
      "{first: '1st'}\n"
     ]
    }
   ],
   "source": [
    "import numerizer\n",
    "input = 'Which Team became the first place in 2006?'\n",
    "txt = nlp(input)\n",
    "ord_dict = txt._.numerize(labels = 'ORDINAL')\n",
    "print(ord_dict)\n",
    "for key in ord_dict.keys():\n",
    "    txt_modified = input.replace(str(key), ord_dict[key])\n",
    "txt = nlp(txt_modified)\n",
    "#print([(w.text, w.pos_, w.ent_type_) for w in txt])"
   ]
  },
  {
   "cell_type": "code",
   "execution_count": 60,
   "metadata": {},
   "outputs": [
    {
     "name": "stdout",
     "output_type": "stream",
     "text": [
      "At the 2006 World Cup, the 1st place was taken by Italy\n"
     ]
    }
   ],
   "source": [
    "import re\n",
    "\n",
    "year = [token.lemma_ for token in txt if token.ent_type_ == \"DATE\"]\n",
    "df = pd.read_csv(f'./data/FIFA - {int(year[0])}.csv')\n",
    "\n",
    "pos_str = [token.lemma_ for token in txt if token.ent_type_ == \"ORDINAL\"]\n",
    "pos_int = int(re.search(r'\\d+', pos_str[0]).group())\n",
    "\n",
    "pos_team = df['Team'].loc[df['Position'] == pos_int]\n",
    "output = f'At the {year[0]} World Cup, the {pos_str[0]} place was taken by {pos_team.item()}'\n",
    "print(output)"
   ]
  },
  {
   "cell_type": "code",
   "execution_count": 81,
   "metadata": {},
   "outputs": [],
   "source": [
    "input = 'Which place did Argentina become in 1986?'\n",
    "txt = nlp(input)\n",
    "\n",
    "year = [token.lemma_ for token in txt if token.ent_type_ == \"DATE\"]\n",
    "df = pd.read_csv(f'./data/FIFA - {int(year[0])}.csv')"
   ]
  },
  {
   "cell_type": "code",
   "execution_count": 83,
   "metadata": {},
   "outputs": [
    {
     "name": "stdout",
     "output_type": "stream",
     "text": [
      "In the 1986 World Cup, Argentina finished the 1th place\n"
     ]
    }
   ],
   "source": [
    "nation = [token.lemma_ for token in txt if token.ent_type_ == \"GPE\"]\n",
    "\n",
    "team_pos = df['Position'].loc[df['Team'] == nation[0].capitalize()]\n",
    "output = f'In the {year[0]} World Cup, {nation[0]} finished the {team_pos.item()}th place'\n",
    "print(output)"
   ]
  },
  {
   "cell_type": "code",
   "execution_count": 85,
   "metadata": {},
   "outputs": [
    {
     "name": "stdout",
     "output_type": "stream",
     "text": [
      "Which team became the 2nd champion in 1986?\n"
     ]
    }
   ],
   "source": [
    "sentence = 'Which team became the vice champion in 1986?'\n",
    "replace_dict = {\n",
    "    'world-champion': '1st place',\n",
    "    'world champion': '1st place',\n",
    "    'vice': '2nd',\n",
    "}\n",
    "\n",
    "for key in replace_dict.keys():\n",
    "    if key in sentence:\n",
    "        sentence_modified = sentence.replace(str(key), replace_dict[key])\n",
    "    else:\n",
    "        pass\n",
    "print(sentence_modified)"
   ]
  }
 ],
 "metadata": {
  "kernelspec": {
   "display_name": "Python 3",
   "language": "python",
   "name": "python3"
  },
  "language_info": {
   "codemirror_mode": {
    "name": "ipython",
    "version": 3
   },
   "file_extension": ".py",
   "mimetype": "text/x-python",
   "name": "python",
   "nbconvert_exporter": "python",
   "pygments_lexer": "ipython3",
   "version": "3.10.1"
  },
  "orig_nbformat": 4,
  "vscode": {
   "interpreter": {
    "hash": "aee8b7b246df8f9039afb4144a1f6fd8d2ca17a180786b69acc140d282b71a49"
   }
  }
 },
 "nbformat": 4,
 "nbformat_minor": 2
}
