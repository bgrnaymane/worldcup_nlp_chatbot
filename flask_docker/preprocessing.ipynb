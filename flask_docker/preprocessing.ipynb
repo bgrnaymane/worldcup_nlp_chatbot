{
 "cells": [
  {
   "cell_type": "code",
   "execution_count": 1,
   "metadata": {},
   "outputs": [
    {
     "name": "stderr",
     "output_type": "stream",
     "text": [
      "C:\\Users\\jpasc\\AppData\\Local\\Packages\\PythonSoftwareFoundation.Python.3.10_qbz5n2kfra8p0\\LocalCache\\local-packages\\Python310\\site-packages\\tqdm\\auto.py:22: TqdmWarning: IProgress not found. Please update jupyter and ipywidgets. See https://ipywidgets.readthedocs.io/en/stable/user_install.html\n",
      "  from .autonotebook import tqdm as notebook_tqdm\n"
     ]
    }
   ],
   "source": [
    "import numpy as np\n",
    "import spacy "
   ]
  },
  {
   "cell_type": "code",
   "execution_count": 2,
   "metadata": {},
   "outputs": [],
   "source": [
    "# English transformer pipeline (roberta-base). \n",
    "# Components: transformer, tagger, parser, ner, attribute_ruler, lemmatizer.\n",
    "# https://spacy.io/models/en\n",
    "\n",
    "nlp = spacy.load(\"en_core_web_trf\")"
   ]
  },
  {
   "cell_type": "code",
   "execution_count": 3,
   "metadata": {},
   "outputs": [],
   "source": [
    "# inputs for pre-processing\n",
    "\n",
    "input_1 = \"Where does Manuel Neuer play?\"\n",
    "input_2 = \"Which players are in the team of Manchester United?\"\n",
    "input_3 = \"What position does Ronaldo play in?\""
   ]
  },
  {
   "cell_type": "code",
   "execution_count": 4,
   "metadata": {},
   "outputs": [],
   "source": [
    "txt_1 = nlp(input_1)\n",
    "txt_2 = nlp(input_2)\n",
    "txt_3 = nlp(input_3)"
   ]
  },
  {
   "cell_type": "code",
   "execution_count": 5,
   "metadata": {},
   "outputs": [
    {
     "name": "stdout",
     "output_type": "stream",
     "text": [
      "[('Where', 'SCONJ', ''), ('does', 'AUX', ''), ('Manuel', 'PROPN', 'PERSON'), ('Neuer', 'PROPN', 'PERSON'), ('play', 'VERB', ''), ('?', 'PUNCT', '')]\n",
      "[('Which', 'DET', ''), ('players', 'NOUN', ''), ('are', 'AUX', ''), ('in', 'ADP', ''), ('the', 'DET', ''), ('team', 'NOUN', ''), ('of', 'ADP', ''), ('Manchester', 'PROPN', 'ORG'), ('United', 'PROPN', 'ORG'), ('?', 'PUNCT', '')]\n",
      "[('What', 'PRON', ''), ('position', 'NOUN', ''), ('does', 'AUX', ''), ('Ronaldo', 'PROPN', 'PERSON'), ('play', 'VERB', ''), ('in', 'ADP', ''), ('?', 'PUNCT', '')]\n"
     ]
    }
   ],
   "source": [
    "print([(w.text, w.pos_, w.ent_type_) for w in txt_1])\n",
    "print([(w.text, w.pos_, w.ent_type_) for w in txt_2])\n",
    "print([(w.text, w.pos_, w.ent_type_) for w in txt_3])"
   ]
  },
  {
   "cell_type": "code",
   "execution_count": 6,
   "metadata": {},
   "outputs": [
    {
     "data": {
      "text/plain": [
       "'Companies, agencies, institutions, etc.'"
      ]
     },
     "execution_count": 6,
     "metadata": {},
     "output_type": "execute_result"
    }
   ],
   "source": [
    "# If an explanation for an abbreviation is needed, check it through this code:\n",
    "spacy.explain(\"ORG\")\n"
   ]
  },
  {
   "cell_type": "code",
   "execution_count": null,
   "metadata": {},
   "outputs": [],
   "source": []
  },
  {
   "attachments": {},
   "cell_type": "markdown",
   "metadata": {},
   "source": [
    "## Taking inputs from the console "
   ]
  },
  {
   "cell_type": "code",
   "execution_count": 7,
   "metadata": {},
   "outputs": [],
   "source": [
    "# input from console\n",
    "input = str(input())\n"
   ]
  },
  {
   "cell_type": "code",
   "execution_count": 8,
   "metadata": {},
   "outputs": [],
   "source": [
    "txt = nlp(input)\n"
   ]
  },
  {
   "cell_type": "code",
   "execution_count": 9,
   "metadata": {},
   "outputs": [
    {
     "name": "stdout",
     "output_type": "stream",
     "text": [
      "[('Which', 'DET', ''), ('place', 'NOUN', ''), ('is', 'AUX', ''), ('FC', 'PROPN', 'ORG'), ('Bayern', 'PROPN', 'ORG'), ('München', 'PROPN', 'ORG'), ('in', 'ADP', ''), ('the', 'DET', ''), ('Bundesliga', 'PROPN', 'ORG'), ('?', 'PUNCT', '')]\n"
     ]
    }
   ],
   "source": [
    "print([(w.text, w.pos_, w.ent_type_) for w in txt])"
   ]
  },
  {
   "cell_type": "code",
   "execution_count": 10,
   "metadata": {},
   "outputs": [],
   "source": [
    "# Anpassung der möglichen Anfragen durch das Abchecken der Informationen aus der API\n",
    "\n",
    "# @all\n",
    "\n",
    "# eventuell preprocessing mit lemmatization?\n",
    "###\n",
    "# sollte man die tokenisierung anpassen auf ner bzw pos tags? \n",
    "# Also bspw Personennamen als einen gemeinsamen token?\n",
    "### \n"
   ]
  }
 ],
 "metadata": {
  "kernelspec": {
   "display_name": "Python 3",
   "language": "python",
   "name": "python3"
  },
  "language_info": {
   "codemirror_mode": {
    "name": "ipython",
    "version": 3
   },
   "file_extension": ".py",
   "mimetype": "text/x-python",
   "name": "python",
   "nbconvert_exporter": "python",
   "pygments_lexer": "ipython3",
   "version": "3.10.9"
  },
  "orig_nbformat": 4,
  "vscode": {
   "interpreter": {
    "hash": "184404e91f710d01d00cb3712b62863f27b28fa0578ba5a6da5bde892209c135"
   }
  }
 },
 "nbformat": 4,
 "nbformat_minor": 2
}
