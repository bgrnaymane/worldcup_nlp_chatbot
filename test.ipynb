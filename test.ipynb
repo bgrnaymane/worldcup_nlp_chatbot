# Gather and organize the data
data = [
    {"question": "When was the first football world cup held?", "answer": "The first football world cup was held in 1930."},
    {"question": "Who has won the most football world cups?", "answer": "Brazil has won the most football world cups, with a total of 5 titles."},
    {"question": "How many teams participate in a football world cup?", "answer": "A total of 32 teams participate in a football world cup."},
    # Add more questions and answers here
]

# Preprocess the data
# (No preprocessing is needed in this simple example, but you may want to do things like lowercasing the text or removing stop words in a more complex chatbot)

# Train a model
# (In this example, we'll use a simple nearest neighbors classifier as the model)
from sklearn.neighbors import KNeighborsClassifier

questions = [item["question"] for item in data]
answers = [item["answer"] for item in data]

model = KNeighborsClassifier(n_neighbors=1)
model.fit(questions, answers)

# Test the model
test_questions = ["When was the last football world cup held?", "Who has won the most football world cups?"]
predictions = model.predict(test_questions)
print(predictions)  # Should print ["The last football world cup was held in 2018.", "Brazil has won the most football world cups, with a total of 5 titles."]

# Implement the chatbot
from flask import Flask, request, jsonify

app = Flask(__name__)

@app.route("/chat", methods=["POST"])
def chat():
    # Get the user's question from the request
    question = request.json["question"]
    
    # Use the model to predict the answer
    answer = model.predict([question])[0]
    
    # Return the answer as a JSON response
    return jsonify({"answer": answer})

if __name__ == "__main__":
    app.run()
