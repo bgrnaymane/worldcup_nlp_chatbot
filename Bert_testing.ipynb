{
 "cells": [
  {
   "cell_type": "code",
   "execution_count": null,
   "metadata": {},
   "outputs": [],
   "source": [
    "# Import necessary libraries\n",
    "from transformers import BertForSequenceClassification, AdamW, BertConfig\n",
    "from transformers import get_linear_schedule_with_warmup\n",
    "import torch"
   ]
  },
  {
   "cell_type": "code",
   "execution_count": 1,
   "metadata": {},
   "outputs": [
    {
     "name": "stdout",
     "output_type": "stream",
     "text": [
      "Collecting torch\n",
      "  Using cached torch-1.13.1-cp38-none-macosx_10_9_x86_64.whl (135.4 MB)\n",
      "Requirement already satisfied: typing-extensions in /Library/Frameworks/Python.framework/Versions/3.8/lib/python3.8/site-packages (from torch) (4.4.0)\n",
      "Installing collected packages: torch\n",
      "Successfully installed torch-1.13.1\n",
      "Note: you may need to restart the kernel to use updated packages.\n"
     ]
    }
   ],
   "source": [
    "%pip install torch"
   ]
  },
  {
   "cell_type": "code",
   "execution_count": null,
   "metadata": {},
   "outputs": [],
   "source": []
  },
  {
   "cell_type": "code",
   "execution_count": null,
   "metadata": {},
   "outputs": [],
   "source": [
    "\n",
    "\n",
    "\n",
    "# Define function to train model\n",
    "def train_model():\n",
    "    # Load BERT model\n",
    "    model = BertForSequenceClassification.from_pretrained(\"bert-base-uncased\", num_labels=len(labels))\n",
    "\n",
    "    # Define optimizer and scheduler\n",
    "    optimizer = AdamW(model.parameters(), lr=2e-5, eps=1e-8)\n",
    "    scheduler = get_linear_schedule_with_warmup(optimizer, num_warmup_steps=0, num_training_steps=num_train_steps)\n",
    "\n",
    "    # Define loss function\n",
    "    criterion = torch.nn.CrossEntropyLoss()\n",
    "\n",
    "    # Training loop\n",
    "    for i in range(num_epochs):\n",
    "        # Training phase\n",
    "        model.train()\n",
    "        for step, batch in enumerate(train_dataloader):\n",
    "            # Unpack batch\n",
    "            b_input_ids, b_attention_mask, b_labels = batch\n",
    "            # Clear gradients\n",
    "            optimizer.zero_grad()\n",
    "            # Forward pass\n",
    "            outputs = model(b_input_ids, attention_mask=b_attention_mask, labels=b_labels)\n",
    "            loss = outputs[0]\n",
    "            # Backward pass and optimization\n",
    "            loss.backward()\n",
    "            optimizer.step()\n",
    "            scheduler.step()\n",
    "    return model\n",
    "\n",
    "# Define function to get intent\n",
    "def get_intent(input):\n",
    "    input_ids = tokenizer.encode(input, add_special_tokens=True)\n",
    "    input_ids = torch.tensor(input_ids).unsqueeze(0)\n",
    "    log\n"
   ]
  },
  {
   "cell_type": "code",
   "execution_count": null,
   "metadata": {},
   "outputs": [],
   "source": [
    "data = {'query':['Which team became 6th place in 2006?', 'Which team was world champion in the year 2010?', 'Who won in 1990?', 'Who was the winner in 1934?',\n",
    "        'Who became the world champion in 1938?', 'Which team won in 1974?', 'Which team was on the 5th place in the worldcup in 1950?',\n",
    "        'Who got the 2nd place in 1986?', 'Who was the world-champion in the world-championship of 2018?', 'Which team is the champion of the year 2002?',\n",
    "\n",
    "        'On which position was Germany in 1986?', 'Brasil got which place in 2014?', 'Which place was Morroco on in 2022?', 'What was the ranking of Sweden in 1958?', \n",
    "        'On which place did the Netherlands land on in the year 1974?', 'What was the placement of Italy in 1938?', 'What ranking did England have in the world-championship of 2010?',\n",
    "        'What was Spain\\'s ranking in 2018?', 'What was the placement of Poland in 2002?', 'Which place did France get in the worldcup 2018?',\n",
    "\n",
    "        'Who hosted the world cup in the year 2018?', 'Which nation was the host of the world cup in 1950?', 'Where was the world cup 1958?', 'Where was the world cup held in 1958?',\n",
    "        'Who was the host of the world-championship in 2002?', 'Which country hosted the world cup in the year 1978?', 'Where was the world cup held in 1990?',\n",
    "        'Where did the world cup take place in the year 2006?', 'Who has hosted the worldcup in 1974?', 'In which country did the world cup take place in 2022?',\n",
    "\n",
    "        'On average, how many goals were scored in 1998?', 'How many goals were scored in the world-championship of 1962 on average?', 'What were the average goals scored in 1986?', 'What was the average number of goals scored in 1930?',\n",
    "        'What was the average of goals in 1974?', 'How many goals have been scored on average in the year 2002? ', 'How many goals were scored on average in 1990?',\n",
    "        'In the worldcup 1962, how many goals have been scored on average?', 'What was the average number of goals scored in the year 1962?', 'What was the average number of goals in 1938?',\n",
    "\n",
    "        'How many goals were scored 1950?', 'How many goals in the world-championship of 2010?', 'What is the number of overall goals in 2022?', 'How many goals were made in 2002?',\n",
    "        'How many goals were accumulated in 2018?', 'What was the total of goals in 1960?', 'What was the total number of goals in 1930?',\n",
    "        'What is the sum of all goals scored in the year 1938?', 'What is the total number of goals scored in the worldcup of 1950?', 'How many goals were scored in the world cup in 1990?',\n",
    "\n",
    "        'How many matches were played in the world-championship of 1930?','What is the number of matches played in 1954?','What was the amount of matches in the 2010 worldcup?', 'How many matches were played in Germany in 2006?',\n",
    "        'What is the total number of games played in the year 2002?', 'What is the sum of matches played in 1974?', 'In 2018, how many matches took place?',\n",
    "        'How many matches have been played in 1950?', 'How many games were played in 1974?', 'What is the total of matches played in 1978?',\n",
    "\n",
    "        'won','winner','champion ','world champion','world-champion','first place',\n",
    "        'Who won the world cup in 1974?', 'Who was world-champion in 1950?', 'Who got the first place of the world cup in 2002?',\n",
    "        'Who was the winner of the world-championship in 2006?', 'Who was the champion of the worldcup in 2010?',\n",
    "\n",
    "        'Hello.', 'Hellooo', 'Hi!', 'Hey,', 'Heyyy,', 'Good day!', 'Good evening.',\n",
    "\n",
    "        'Thank you!', 'Thanks', 'Thank you very much!', 'Okay, thanksie!',\n",
    "\n",
    "        'Goodbye', 'Bye', 'See you!', 'Byebyeee'],\n",
    "\n",
    "\n",
    "       'category':['PlacementTeam','PlacementTeam','PlacementTeam','PlacementTeam',\n",
    "       'PlacementTeam','PlacementTeam','PlacementTeam',\n",
    "       'PlacementTeam','PlacementTeam','PlacementTeam',\n",
    "\n",
    "       'TeamPlacement','TeamPlacement','TeamPlacement','TeamPlacement',\n",
    "       'TeamPlacement','TeamPlacement','TeamPlacement',\n",
    "       'TeamPlacement','TeamPlacement','TeamPlacement',\n",
    "\n",
    "       'YearHost','YearHost','YearHost','YearHost',\n",
    "       'YearHost','YearHost','YearHost',\n",
    "       'YearHost','YearHost','YearHost',\n",
    "\n",
    "       'year(avg)Goals','year(avg)Goals','year(avg)Goals','year(avg)Goals',\n",
    "       'year(avg)Goals','year(avg)Goals','year(avg)Goals',\n",
    "       'year(avg)Goals','year(avg)Goals','year(avg)Goals',\n",
    "\n",
    "       'yearGoals','yearGoals','yearGoals','yearGoals',\n",
    "       'yearGoals','yearGoals','yearGoals',\n",
    "       'yearGoals','yearGoals','yearGoals',\n",
    "\n",
    "       'yearMatches','yearMatches','yearMatches','yearMatches',\n",
    "       'yearMatches','yearMatches','yearMatches', \n",
    "       'yearMatches','yearMatches','yearMatches', \n",
    "\n",
    "       'firstPlace','firstPlace', 'firstPlace','firstPlace','firstPlace','firstPlace', \n",
    "       'firstPlace','firstPlace','firstPlace',\n",
    "       'firstPlace', 'firstPlace',\n",
    "       \n",
    "       'greeting', 'greeting', 'greeting', 'greeting', 'greeting', 'greeting','greeting',\n",
    "       \n",
    "       'thankYou', 'thankYou', 'thankYou', 'thankYou', \n",
    "       \n",
    "       'bye', 'bye', 'bye', 'bye']}\n"
   ]
  },
  {
   "cell_type": "code",
   "execution_count": null,
   "metadata": {},
   "outputs": [],
   "source": []
  }
 ],
 "metadata": {
  "kernelspec": {
   "display_name": "Python 3",
   "language": "python",
   "name": "python3"
  },
  "language_info": {
   "codemirror_mode": {
    "name": "ipython",
    "version": 3
   },
   "file_extension": ".py",
   "mimetype": "text/x-python",
   "name": "python",
   "nbconvert_exporter": "python",
   "pygments_lexer": "ipython3",
   "version": "3.8.10"
  },
  "orig_nbformat": 4,
  "vscode": {
   "interpreter": {
    "hash": "aee8b7b246df8f9039afb4144a1f6fd8d2ca17a180786b69acc140d282b71a49"
   }
  }
 },
 "nbformat": 4,
 "nbformat_minor": 2
}
